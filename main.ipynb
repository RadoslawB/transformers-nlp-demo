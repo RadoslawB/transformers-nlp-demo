{
 "cells": [
  {
   "cell_type": "markdown",
   "id": "44bc037d",
   "metadata": {},
   "source": [
    "## Imports, utils and setup"
   ]
  },
  {
   "cell_type": "code",
   "execution_count": 1,
   "id": "e665c3d7",
   "metadata": {
    "ExecuteTime": {
     "end_time": "2022-02-03T21:41:49.494806Z",
     "start_time": "2022-02-03T21:41:28.242618Z"
    }
   },
   "outputs": [],
   "source": [
    "from IPython.display import display\n",
    "import pandas as pd\n",
    "import plotly.express as px\n",
    "from transformers import pipeline"
   ]
  },
  {
   "cell_type": "code",
   "execution_count": 3,
   "id": "5f79938f",
   "metadata": {
    "ExecuteTime": {
     "end_time": "2022-02-03T21:41:49.509718Z",
     "start_time": "2022-02-03T21:41:49.505618Z"
    }
   },
   "outputs": [],
   "source": [
    "def sum_model_trainable_parameters(pytorch_model) -> int:\n",
    "    return sum(p.numel() for p in pytorch_model.parameters())\n",
    "\n",
    "\n",
    "def show_model_summary(model_name, model, model_size_mb):\n",
    "    params_count = sum_model_trainable_parameters(model)\n",
    "    return pd.Series(dict(\n",
    "        parameters=f'{params_count:,}',\n",
    "        size=f'{model_size_mb} MB'\n",
    "    ), name=model_name).to_frame()"
   ]
  },
  {
   "cell_type": "markdown",
   "id": "50ebafa1",
   "metadata": {
    "ExecuteTime": {
     "end_time": "2022-01-10T08:23:41.381425Z",
     "start_time": "2022-01-10T08:23:41.377182Z"
    }
   },
   "source": [
    "# Generating fluent text"
   ]
  },
  {
   "cell_type": "markdown",
   "id": "05e6d777",
   "metadata": {},
   "source": [
    "## Preparation\n",
    "\n",
    "Model site: https://huggingface.co/gpt2"
   ]
  },
  {
   "cell_type": "code",
   "execution_count": 6,
   "id": "8a28a6d5",
   "metadata": {
    "ExecuteTime": {
     "end_time": "2022-02-03T21:43:29.168279Z",
     "start_time": "2022-02-03T21:43:14.237422Z"
    }
   },
   "outputs": [],
   "source": [
    "from transformers import pipeline\n",
    "\n",
    "text_generation_model_name = 'gpt2'\n",
    "text_generation_pipeline = pipeline('text-generation',\n",
    "                                    model=text_generation_model_name)\n",
    "text_generation_model_size_mb = 523"
   ]
  },
  {
   "cell_type": "code",
   "execution_count": 7,
   "id": "8b2eb313",
   "metadata": {
    "ExecuteTime": {
     "end_time": "2022-02-03T21:43:29.182075Z",
     "start_time": "2022-02-03T21:43:29.170586Z"
    }
   },
   "outputs": [
    {
     "data": {
      "text/html": [
       "<div>\n",
       "<style scoped>\n",
       "    .dataframe tbody tr th:only-of-type {\n",
       "        vertical-align: middle;\n",
       "    }\n",
       "\n",
       "    .dataframe tbody tr th {\n",
       "        vertical-align: top;\n",
       "    }\n",
       "\n",
       "    .dataframe thead th {\n",
       "        text-align: right;\n",
       "    }\n",
       "</style>\n",
       "<table border=\"1\" class=\"dataframe\">\n",
       "  <thead>\n",
       "    <tr style=\"text-align: right;\">\n",
       "      <th></th>\n",
       "      <th>gpt2</th>\n",
       "    </tr>\n",
       "  </thead>\n",
       "  <tbody>\n",
       "    <tr>\n",
       "      <th>parameters</th>\n",
       "      <td>124,439,808</td>\n",
       "    </tr>\n",
       "    <tr>\n",
       "      <th>size</th>\n",
       "      <td>523 MB</td>\n",
       "    </tr>\n",
       "  </tbody>\n",
       "</table>\n",
       "</div>"
      ],
      "text/plain": [
       "                   gpt2\n",
       "parameters  124,439,808\n",
       "size             523 MB"
      ]
     },
     "execution_count": 7,
     "metadata": {},
     "output_type": "execute_result"
    }
   ],
   "source": [
    "show_model_summary(text_generation_model_name,\n",
    "                   text_generation_pipeline.model, \n",
    "                   text_generation_model_size_mb)"
   ]
  },
  {
   "cell_type": "markdown",
   "id": "fffd5c46",
   "metadata": {},
   "source": [
    "## Demo"
   ]
  },
  {
   "cell_type": "code",
   "execution_count": 8,
   "id": "75a1b2cc",
   "metadata": {
    "ExecuteTime": {
     "end_time": "2022-02-03T21:43:32.742113Z",
     "start_time": "2022-02-03T21:43:31.096887Z"
    }
   },
   "outputs": [
    {
     "name": "stderr",
     "output_type": "stream",
     "text": [
      "Setting `pad_token_id` to `eos_token_id`:50256 for open-end generation.\n"
     ]
    },
    {
     "data": {
      "text/plain": [
       "[{'generated_text': 'Once upon the time when he felt the greatest desire, then, by his infinite goodness of self, could feel him, then'},\n",
       " {'generated_text': \"Once upon the time of the eclipse, a mass of energy from the sun's surface exploded throughout the sky and covered most of\"}]"
      ]
     },
     "execution_count": 8,
     "metadata": {},
     "output_type": "execute_result"
    }
   ],
   "source": [
    "from transformers import pipeline, set_seed\n",
    "from pprint import pprint\n",
    "\n",
    "set_seed(1)\n",
    "\n",
    "text_generation_pipeline(\"Once upon the time\",\n",
    "                         max_length=25,\n",
    "                         num_return_sequences=2)"
   ]
  },
  {
   "cell_type": "code",
   "execution_count": 9,
   "id": "a8dcb6dd",
   "metadata": {
    "ExecuteTime": {
     "end_time": "2022-02-03T21:43:36.221961Z",
     "start_time": "2022-02-03T21:43:34.526925Z"
    }
   },
   "outputs": [
    {
     "name": "stderr",
     "output_type": "stream",
     "text": [
      "Setting `pad_token_id` to `eos_token_id`:50256 for open-end generation.\n"
     ]
    },
    {
     "data": {
      "text/plain": [
       "[{'generated_text': 'Once upon the time when there is an earthquake, people usually go out into the street not to feel anxious as they would when'},\n",
       " {'generated_text': 'Once upon the time frame of 8.4.09, they are able to move to the next stage of the process.'}]"
      ]
     },
     "execution_count": 9,
     "metadata": {},
     "output_type": "execute_result"
    }
   ],
   "source": [
    "set_seed(2)\n",
    "\n",
    "text_generation_pipeline(\"Once upon the time\", \n",
    "                         max_length=25, \n",
    "                         num_return_sequences=2)"
   ]
  },
  {
   "cell_type": "markdown",
   "id": "7f22bc59",
   "metadata": {
    "ExecuteTime": {
     "end_time": "2021-12-21T17:55:13.805243Z",
     "start_time": "2021-12-21T17:55:13.800751Z"
    }
   },
   "source": [
    "# Question answering\n",
    "\n",
    "Model site: https://huggingface.co/deepset/roberta-base-squad2\n"
   ]
  },
  {
   "cell_type": "markdown",
   "id": "bc5a243a",
   "metadata": {
    "ExecuteTime": {
     "end_time": "2022-01-10T07:41:34.640358Z",
     "start_time": "2022-01-10T07:41:34.636507Z"
    }
   },
   "source": [
    "## Preparation"
   ]
  },
  {
   "cell_type": "code",
   "execution_count": 10,
   "id": "445382c9",
   "metadata": {
    "ExecuteTime": {
     "end_time": "2022-02-03T21:44:20.955280Z",
     "start_time": "2022-02-03T21:44:07.928920Z"
    }
   },
   "outputs": [],
   "source": [
    "qa_model_name = 'deepset/roberta-base-squad2'\n",
    "qa_pipeline = pipeline('question-answering', qa_model_name)\n",
    "qa_model_size_mb = 473"
   ]
  },
  {
   "cell_type": "code",
   "execution_count": 11,
   "id": "f6d34382",
   "metadata": {
    "ExecuteTime": {
     "end_time": "2022-02-03T21:44:20.967056Z",
     "start_time": "2022-02-03T21:44:20.957774Z"
    },
    "scrolled": true
   },
   "outputs": [
    {
     "data": {
      "text/html": [
       "<div>\n",
       "<style scoped>\n",
       "    .dataframe tbody tr th:only-of-type {\n",
       "        vertical-align: middle;\n",
       "    }\n",
       "\n",
       "    .dataframe tbody tr th {\n",
       "        vertical-align: top;\n",
       "    }\n",
       "\n",
       "    .dataframe thead th {\n",
       "        text-align: right;\n",
       "    }\n",
       "</style>\n",
       "<table border=\"1\" class=\"dataframe\">\n",
       "  <thead>\n",
       "    <tr style=\"text-align: right;\">\n",
       "      <th></th>\n",
       "      <th>deepset/roberta-base-squad2</th>\n",
       "    </tr>\n",
       "  </thead>\n",
       "  <tbody>\n",
       "    <tr>\n",
       "      <th>parameters</th>\n",
       "      <td>124,056,578</td>\n",
       "    </tr>\n",
       "    <tr>\n",
       "      <th>size</th>\n",
       "      <td>473 MB</td>\n",
       "    </tr>\n",
       "  </tbody>\n",
       "</table>\n",
       "</div>"
      ],
      "text/plain": [
       "           deepset/roberta-base-squad2\n",
       "parameters                 124,056,578\n",
       "size                            473 MB"
      ]
     },
     "execution_count": 11,
     "metadata": {},
     "output_type": "execute_result"
    }
   ],
   "source": [
    "show_model_summary(qa_model_name, qa_pipeline.model, qa_model_size_mb)"
   ]
  },
  {
   "cell_type": "code",
   "execution_count": 12,
   "id": "ef6c4997",
   "metadata": {
    "ExecuteTime": {
     "end_time": "2022-02-03T21:44:20.971880Z",
     "start_time": "2022-02-03T21:44:20.968996Z"
    }
   },
   "outputs": [],
   "source": [
    "def answer_question(question, context, qa_pipeline):\n",
    "    return qa_pipeline(dict(\n",
    "        question=question,\n",
    "        context=context\n",
    "    ))"
   ]
  },
  {
   "cell_type": "code",
   "execution_count": 13,
   "id": "00209d05",
   "metadata": {
    "ExecuteTime": {
     "end_time": "2022-02-03T21:44:20.978621Z",
     "start_time": "2022-02-03T21:44:20.974681Z"
    }
   },
   "outputs": [],
   "source": [
    "australia_context = \"\"\"Australia, officially the Commonwealth of Australia, \n",
    "    is a sovereign country comprising the mainland of the Australian continent, \n",
    "    the island of Tasmania, and numerous smaller islands.\n",
    "    It is the largest country by area in Oceania and the world's sixth-largest country.\n",
    "    Australia's population of nearly 26 million, in an area of 7,617,930 square \n",
    "    kilometres (2,941,300 sq mi),[14] is highly urbanised and heavily concentrated on \n",
    "    the eastern seaboard. Canberra is the nation's capital, while the largest city is \n",
    "    Sydney, and other major metropolitan areas include Melbourne, Brisbane, Perth, \n",
    "    and Adelaide.\"\"\""
   ]
  },
  {
   "cell_type": "code",
   "execution_count": 14,
   "id": "d990794d",
   "metadata": {
    "ExecuteTime": {
     "end_time": "2022-02-03T21:44:20.984040Z",
     "start_time": "2022-02-03T21:44:20.981190Z"
    }
   },
   "outputs": [],
   "source": [
    "question_variants = [\n",
    "    'How many citizens Australia has?',\n",
    "    'How many people live in Australia?',\n",
    "    'For how many people is Australia home?',\n",
    "]"
   ]
  },
  {
   "cell_type": "markdown",
   "id": "ea25cf67",
   "metadata": {},
   "source": [
    "### Demo"
   ]
  },
  {
   "cell_type": "code",
   "execution_count": 16,
   "id": "fe50a63a",
   "metadata": {
    "ExecuteTime": {
     "end_time": "2022-02-03T21:45:39.639005Z",
     "start_time": "2022-02-03T21:45:38.389445Z"
    }
   },
   "outputs": [
    {
     "name": "stdout",
     "output_type": "stream",
     "text": [
      "How many citizens Australia has? 26 million. Confidence: 55%\n",
      "How many people live in Australia? 26 million. Confidence: 52%\n",
      "For how many people is Australia home? 26 million. Confidence: 53%\n"
     ]
    }
   ],
   "source": [
    "for question in question_variants:\n",
    "    result = answer_question(question=question,\n",
    "                             context=australia_context,\n",
    "                             qa_pipeline=qa_pipeline)\n",
    "    answer = result['answer']\n",
    "    confidence_score = round(result['score']*100)\n",
    "    print(f'{question} {answer}. Confidence: {confidence_score}%')"
   ]
  },
  {
   "cell_type": "markdown",
   "id": "8cb81ed2",
   "metadata": {},
   "source": [
    "#### Answer is a string between 'start' and 'end' positions in a question"
   ]
  },
  {
   "cell_type": "code",
   "execution_count": 17,
   "id": "91a5ad04",
   "metadata": {
    "ExecuteTime": {
     "end_time": "2022-02-03T21:45:40.841166Z",
     "start_time": "2022-02-03T21:45:40.836593Z"
    }
   },
   "outputs": [
    {
     "data": {
      "text/plain": [
       "{'score': 0.534076452255249, 'start': 318, 'end': 328, 'answer': '26 million'}"
      ]
     },
     "execution_count": 17,
     "metadata": {},
     "output_type": "execute_result"
    }
   ],
   "source": [
    "result"
   ]
  },
  {
   "cell_type": "code",
   "execution_count": 18,
   "id": "653508fa",
   "metadata": {
    "ExecuteTime": {
     "end_time": "2022-02-03T21:45:46.039018Z",
     "start_time": "2022-02-03T21:45:46.034036Z"
    }
   },
   "outputs": [
    {
     "data": {
      "text/plain": [
       "'26 million'"
      ]
     },
     "execution_count": 18,
     "metadata": {},
     "output_type": "execute_result"
    }
   ],
   "source": [
    "australia_context[ result['start'] : result['end'] ]"
   ]
  },
  {
   "cell_type": "markdown",
   "id": "c065ad47",
   "metadata": {},
   "source": [
    "# Summarization"
   ]
  },
  {
   "cell_type": "markdown",
   "id": "61c44e5e",
   "metadata": {},
   "source": [
    "## Generate summary"
   ]
  },
  {
   "cell_type": "markdown",
   "id": "c05f3f46",
   "metadata": {
    "ExecuteTime": {
     "end_time": "2022-02-03T21:46:22.764226Z",
     "start_time": "2022-02-03T21:46:22.760556Z"
    }
   },
   "source": [
    "### Preparation"
   ]
  },
  {
   "cell_type": "code",
   "execution_count": 20,
   "id": "c6bdf827",
   "metadata": {
    "ExecuteTime": {
     "end_time": "2022-02-03T21:46:42.623195Z",
     "start_time": "2022-02-03T21:46:25.295984Z"
    }
   },
   "outputs": [],
   "source": [
    "summarize_model_name=\"facebook/bart-large-cnn\"\n",
    "summarize_pipeline = pipeline(\"summarization\", model=summarize_model_name)\n",
    "summarize_model_size_mb=1510"
   ]
  },
  {
   "cell_type": "code",
   "execution_count": 21,
   "id": "8c9b6efb",
   "metadata": {
    "ExecuteTime": {
     "end_time": "2022-02-03T21:46:42.635816Z",
     "start_time": "2022-02-03T21:46:42.625813Z"
    }
   },
   "outputs": [
    {
     "data": {
      "text/html": [
       "<div>\n",
       "<style scoped>\n",
       "    .dataframe tbody tr th:only-of-type {\n",
       "        vertical-align: middle;\n",
       "    }\n",
       "\n",
       "    .dataframe tbody tr th {\n",
       "        vertical-align: top;\n",
       "    }\n",
       "\n",
       "    .dataframe thead th {\n",
       "        text-align: right;\n",
       "    }\n",
       "</style>\n",
       "<table border=\"1\" class=\"dataframe\">\n",
       "  <thead>\n",
       "    <tr style=\"text-align: right;\">\n",
       "      <th></th>\n",
       "      <th>facebook/bart-large-cnn</th>\n",
       "    </tr>\n",
       "  </thead>\n",
       "  <tbody>\n",
       "    <tr>\n",
       "      <th>parameters</th>\n",
       "      <td>406,290,432</td>\n",
       "    </tr>\n",
       "    <tr>\n",
       "      <th>size</th>\n",
       "      <td>1510 MB</td>\n",
       "    </tr>\n",
       "  </tbody>\n",
       "</table>\n",
       "</div>"
      ],
      "text/plain": [
       "           facebook/bart-large-cnn\n",
       "parameters             406,290,432\n",
       "size                       1510 MB"
      ]
     },
     "execution_count": 21,
     "metadata": {},
     "output_type": "execute_result"
    }
   ],
   "source": [
    "show_model_summary(summarize_model_name, summarize_pipeline.model, summarize_model_size_mb)"
   ]
  },
  {
   "cell_type": "markdown",
   "id": "9422d00e",
   "metadata": {
    "ExecuteTime": {
     "end_time": "2022-02-03T21:47:12.596761Z",
     "start_time": "2022-02-03T21:47:12.593205Z"
    }
   },
   "source": [
    "### Demo"
   ]
  },
  {
   "cell_type": "code",
   "execution_count": 22,
   "id": "4002be58",
   "metadata": {
    "ExecuteTime": {
     "end_time": "2022-02-03T21:46:42.641965Z",
     "start_time": "2022-02-03T21:46:42.638547Z"
    }
   },
   "outputs": [],
   "source": [
    "australia_context = \"\"\"Australia, officially the Commonwealth of Australia, \n",
    "    is a sovereign country comprising the mainland of the Australian continent, \n",
    "    the island of a\n",
    "    Tasmania, and numerous smaller islands.\n",
    "    It is the largest country by area in Oceania and the world's sixth-largest country.\n",
    "    Australia's population of nearly 26 million, in an area of 7,617,930 square \n",
    "    kilometres (2,941,300 sq mi),[14] is highly urbanised and heavily concentrated on \n",
    "    the eastern seaboard. Canberra is the nation's capital, while the largest city is \n",
    "    Sydney, and other major metropolitan areas include Melbourne, Brisbane, Perth, \n",
    "    and Adelaide.\"\"\""
   ]
  },
  {
   "cell_type": "code",
   "execution_count": 23,
   "id": "241c7053",
   "metadata": {
    "ExecuteTime": {
     "end_time": "2022-02-03T21:46:50.108099Z",
     "start_time": "2022-02-03T21:46:42.645961Z"
    }
   },
   "outputs": [
    {
     "data": {
      "text/plain": [
       "[{'summary_text': \"Australia, officially the Commonwealth of Australia, is a sovereign country. It is the largest country by area in Oceania and the world's sixth-largest country. Australia's population of nearly 26 million, in an area of 7,\"}]"
      ]
     },
     "execution_count": 23,
     "metadata": {},
     "output_type": "execute_result"
    }
   ],
   "source": [
    "summarize_pipeline(australia_context, max_length=50, min_length=30, do_sample=False)"
   ]
  },
  {
   "cell_type": "markdown",
   "id": "e754db22",
   "metadata": {
    "ExecuteTime": {
     "end_time": "2022-01-11T08:19:35.521867Z",
     "start_time": "2022-01-11T08:19:35.516937Z"
    }
   },
   "source": [
    "## Generate title for article\n"
   ]
  },
  {
   "cell_type": "markdown",
   "id": "4cbb5d1d",
   "metadata": {
    "ExecuteTime": {
     "end_time": "2022-01-11T08:22:09.275424Z",
     "start_time": "2022-01-11T08:22:09.272012Z"
    }
   },
   "source": [
    "### Preparation"
   ]
  },
  {
   "cell_type": "code",
   "execution_count": 25,
   "id": "84e74b5e",
   "metadata": {
    "ExecuteTime": {
     "end_time": "2022-02-03T21:47:44.982378Z",
     "start_time": "2022-02-03T21:47:28.664403Z"
    }
   },
   "outputs": [],
   "source": [
    "headline_generator_model_name = \"Michau/t5-base-en-generate-headline\"\n",
    "headline_generator_pipeline = pipeline('text2text-generation',\n",
    "                                       model=headline_generator_model_name)\n",
    "headline_generator_model_size_mb = 850"
   ]
  },
  {
   "cell_type": "code",
   "execution_count": 26,
   "id": "d6eb4102",
   "metadata": {
    "ExecuteTime": {
     "end_time": "2022-02-03T21:47:44.994348Z",
     "start_time": "2022-02-03T21:47:44.985061Z"
    }
   },
   "outputs": [
    {
     "data": {
      "text/html": [
       "<div>\n",
       "<style scoped>\n",
       "    .dataframe tbody tr th:only-of-type {\n",
       "        vertical-align: middle;\n",
       "    }\n",
       "\n",
       "    .dataframe tbody tr th {\n",
       "        vertical-align: top;\n",
       "    }\n",
       "\n",
       "    .dataframe thead th {\n",
       "        text-align: right;\n",
       "    }\n",
       "</style>\n",
       "<table border=\"1\" class=\"dataframe\">\n",
       "  <thead>\n",
       "    <tr style=\"text-align: right;\">\n",
       "      <th></th>\n",
       "      <th>Michau/t5-base-en-generate-headline</th>\n",
       "    </tr>\n",
       "  </thead>\n",
       "  <tbody>\n",
       "    <tr>\n",
       "      <th>parameters</th>\n",
       "      <td>222,903,552</td>\n",
       "    </tr>\n",
       "    <tr>\n",
       "      <th>size</th>\n",
       "      <td>850 MB</td>\n",
       "    </tr>\n",
       "  </tbody>\n",
       "</table>\n",
       "</div>"
      ],
      "text/plain": [
       "           Michau/t5-base-en-generate-headline\n",
       "parameters                         222,903,552\n",
       "size                                    850 MB"
      ]
     },
     "execution_count": 26,
     "metadata": {},
     "output_type": "execute_result"
    }
   ],
   "source": [
    "show_model_summary(headline_generator_model_name,\n",
    "                   headline_generator_pipeline.model, \n",
    "                   headline_generator_model_size_mb)"
   ]
  },
  {
   "cell_type": "markdown",
   "id": "d74e8018",
   "metadata": {},
   "source": [
    "### Demo"
   ]
  },
  {
   "cell_type": "code",
   "execution_count": 27,
   "id": "0fcad9af",
   "metadata": {
    "ExecuteTime": {
     "end_time": "2022-02-03T21:47:45.691803Z",
     "start_time": "2022-02-03T21:47:45.687665Z"
    }
   },
   "outputs": [],
   "source": [
    "article = \"\"\"\n",
    "To make observations in the infrared spectrum, JWST must be kept under 50 K \n",
    "(−223.2 °C; −369.7 °F); otherwise, infrared radiation from the telescope itself\n",
    "would overwhelm its instruments. It therefore uses a large sunshield to block light \n",
    "and heat from the Sun, Earth, and Moon, and its position near the Sun-Earth L2 keeps \n",
    "all three bodies on the same side of the spacecraft at all times.[56] Its halo orbit \n",
    "around the L2 point avoids the shadow of the Earth and Moon, maintaining a constant \n",
    "environment for the sunshield and solar arrays.[54] The shielding maintains a stable \n",
    "temperature for the structures on the dark side, which is critical to maintaining precise\n",
    "alignment of the primary mirror segments in space.[18]. The five-layer sunshield, \n",
    "each layer as thin as a human hair,[57] is constructed from Kapton E, a commercially \n",
    "available polyimide film from DuPont, with membranes specially coated with aluminum on \n",
    "both sides and a layer of doped silicon on the Sun-facing side of the two hottest layers \n",
    "to reflect the Sun's heat back into space.[18] Accidental tears of the delicate film \n",
    "structure during testing in 2018 were among the factors delaying the project.[58]\n",
    "The sunshield was designed to be folded twelve times so that it fit within the Ariane\n",
    "5 rocket's payload fairing, which is 4.57 m (15.0 ft) in diameter, and 16.19 m (53.1 ft)\n",
    "long. The shield's fully deployed dimensions were planned as 14.162 m × 21.197 m \n",
    "(46.46 ft × 69.54 ft). The sunshield was hand-assembled at ManTech (NeXolve) in \n",
    "Huntsville, Alabama, before it was delivered to Northrop Grumman in Redondo Beach,\n",
    "California, for testing.[59]. Because of the sunshield, JWST does not have an unlimited\n",
    "field of regard at any given time. The telescope can see 40 percent of the sky from one \n",
    "position and can see all of the sky over a period of six months,[60] the amount of time \n",
    "it takes to complete half its orbit around the Sun.\"\"\""
   ]
  },
  {
   "cell_type": "code",
   "execution_count": 28,
   "id": "2da8cddf",
   "metadata": {
    "ExecuteTime": {
     "end_time": "2022-02-03T21:47:48.285059Z",
     "start_time": "2022-02-03T21:47:45.988232Z"
    }
   },
   "outputs": [
    {
     "data": {
      "text/plain": [
       "[{'generated_text': \"JWST's Sunshield is a Spectroscopic Observ\"}]"
      ]
     },
     "execution_count": 28,
     "metadata": {},
     "output_type": "execute_result"
    }
   ],
   "source": [
    "headline_generator_pipeline(article)"
   ]
  },
  {
   "cell_type": "markdown",
   "id": "a6ff27eb",
   "metadata": {
    "ExecuteTime": {
     "end_time": "2022-01-10T07:54:33.596416Z",
     "start_time": "2022-01-10T07:54:33.590498Z"
    }
   },
   "source": [
    "# Text classification"
   ]
  },
  {
   "cell_type": "markdown",
   "id": "07ab7198",
   "metadata": {},
   "source": [
    "## Sentiment analysis\n",
    "Model site: https://huggingface.co/distilbert-base-uncased-finetuned-sst-2-english"
   ]
  },
  {
   "cell_type": "markdown",
   "id": "4c00c361",
   "metadata": {},
   "source": [
    "### Preparation"
   ]
  },
  {
   "cell_type": "code",
   "execution_count": 29,
   "id": "bd8f54c3",
   "metadata": {
    "ExecuteTime": {
     "end_time": "2022-02-03T21:48:36.336001Z",
     "start_time": "2022-02-03T21:48:24.313052Z"
    }
   },
   "outputs": [],
   "source": [
    "sentiment_model_name = 'distilbert-base-uncased-finetuned-sst-2-english'\n",
    "sentiment_pipeline = pipeline('sentiment-analysis', model=sentiment_model_name)\n",
    "sentiment_model_size_mb = 255"
   ]
  },
  {
   "cell_type": "code",
   "execution_count": 30,
   "id": "fe4f3c41",
   "metadata": {
    "ExecuteTime": {
     "end_time": "2022-02-03T21:48:36.348399Z",
     "start_time": "2022-02-03T21:48:36.338850Z"
    }
   },
   "outputs": [
    {
     "data": {
      "text/html": [
       "<div>\n",
       "<style scoped>\n",
       "    .dataframe tbody tr th:only-of-type {\n",
       "        vertical-align: middle;\n",
       "    }\n",
       "\n",
       "    .dataframe tbody tr th {\n",
       "        vertical-align: top;\n",
       "    }\n",
       "\n",
       "    .dataframe thead th {\n",
       "        text-align: right;\n",
       "    }\n",
       "</style>\n",
       "<table border=\"1\" class=\"dataframe\">\n",
       "  <thead>\n",
       "    <tr style=\"text-align: right;\">\n",
       "      <th></th>\n",
       "      <th>distilbert-base-uncased-finetuned-sst-2-english</th>\n",
       "    </tr>\n",
       "  </thead>\n",
       "  <tbody>\n",
       "    <tr>\n",
       "      <th>parameters</th>\n",
       "      <td>66,955,010</td>\n",
       "    </tr>\n",
       "    <tr>\n",
       "      <th>size</th>\n",
       "      <td>255 MB</td>\n",
       "    </tr>\n",
       "  </tbody>\n",
       "</table>\n",
       "</div>"
      ],
      "text/plain": [
       "           distilbert-base-uncased-finetuned-sst-2-english\n",
       "parameters                                      66,955,010\n",
       "size                                                255 MB"
      ]
     },
     "execution_count": 30,
     "metadata": {},
     "output_type": "execute_result"
    }
   ],
   "source": [
    "show_model_summary(sentiment_model_name, sentiment_pipeline.model, sentiment_model_size_mb)"
   ]
  },
  {
   "cell_type": "markdown",
   "id": "e4955609",
   "metadata": {},
   "source": [
    "### Demo\n",
    "\n",
    "Watch how well sacrasm is detected"
   ]
  },
  {
   "cell_type": "code",
   "execution_count": 31,
   "id": "5941fd3b",
   "metadata": {
    "ExecuteTime": {
     "end_time": "2022-02-03T21:48:43.999333Z",
     "start_time": "2022-02-03T21:48:43.958422Z"
    }
   },
   "outputs": [
    {
     "data": {
      "text/plain": [
       "[{'label': 'POSITIVE', 'score': 0.9989325404167175}]"
      ]
     },
     "execution_count": 31,
     "metadata": {},
     "output_type": "execute_result"
    }
   ],
   "source": [
    "sentiment_pipeline('I love being served hot food')"
   ]
  },
  {
   "cell_type": "code",
   "execution_count": 32,
   "id": "ff75e81d",
   "metadata": {
    "ExecuteTime": {
     "end_time": "2022-02-03T21:48:44.482108Z",
     "start_time": "2022-02-03T21:48:44.442105Z"
    }
   },
   "outputs": [
    {
     "data": {
      "text/plain": [
       "[{'label': 'NEGATIVE', 'score': 0.7160998582839966}]"
      ]
     },
     "execution_count": 32,
     "metadata": {},
     "output_type": "execute_result"
    }
   ],
   "source": [
    "sentiment_pipeline('I love being served cold food')"
   ]
  },
  {
   "cell_type": "markdown",
   "id": "8191d838",
   "metadata": {},
   "source": [
    "## Emotion classification"
   ]
  },
  {
   "cell_type": "markdown",
   "id": "94f7b747",
   "metadata": {},
   "source": [
    "### Preparation"
   ]
  },
  {
   "cell_type": "code",
   "execution_count": 33,
   "id": "abc699b3",
   "metadata": {
    "ExecuteTime": {
     "end_time": "2022-02-03T21:49:29.439504Z",
     "start_time": "2022-02-03T21:49:17.294765Z"
    }
   },
   "outputs": [],
   "source": [
    "emotion_model = 'bhadresh-savani/distilbert-base-uncased-emotion'\n",
    "emotion_pipeline = pipeline('sentiment-analysis', model=emotion_model,\n",
    "                            return_all_scores=True)\n",
    "emotion_model_size_mb = 255"
   ]
  },
  {
   "cell_type": "code",
   "execution_count": 34,
   "id": "ce590487",
   "metadata": {
    "ExecuteTime": {
     "end_time": "2022-02-03T21:49:29.452006Z",
     "start_time": "2022-02-03T21:49:29.442506Z"
    }
   },
   "outputs": [
    {
     "data": {
      "text/html": [
       "<div>\n",
       "<style scoped>\n",
       "    .dataframe tbody tr th:only-of-type {\n",
       "        vertical-align: middle;\n",
       "    }\n",
       "\n",
       "    .dataframe tbody tr th {\n",
       "        vertical-align: top;\n",
       "    }\n",
       "\n",
       "    .dataframe thead th {\n",
       "        text-align: right;\n",
       "    }\n",
       "</style>\n",
       "<table border=\"1\" class=\"dataframe\">\n",
       "  <thead>\n",
       "    <tr style=\"text-align: right;\">\n",
       "      <th></th>\n",
       "      <th>bhadresh-savani/distilbert-base-uncased-emotion</th>\n",
       "    </tr>\n",
       "  </thead>\n",
       "  <tbody>\n",
       "    <tr>\n",
       "      <th>parameters</th>\n",
       "      <td>66,958,086</td>\n",
       "    </tr>\n",
       "    <tr>\n",
       "      <th>size</th>\n",
       "      <td>255 MB</td>\n",
       "    </tr>\n",
       "  </tbody>\n",
       "</table>\n",
       "</div>"
      ],
      "text/plain": [
       "           bhadresh-savani/distilbert-base-uncased-emotion\n",
       "parameters                                      66,958,086\n",
       "size                                                255 MB"
      ]
     },
     "execution_count": 34,
     "metadata": {},
     "output_type": "execute_result"
    }
   ],
   "source": [
    "show_model_summary(emotion_model, emotion_pipeline.model,\n",
    "                   emotion_model_size_mb)"
   ]
  },
  {
   "cell_type": "markdown",
   "id": "bdb032fb",
   "metadata": {
    "ExecuteTime": {
     "end_time": "2022-02-03T21:50:59.403665Z",
     "start_time": "2022-02-03T21:50:59.400753Z"
    }
   },
   "source": [
    "### Demo"
   ]
  },
  {
   "cell_type": "code",
   "execution_count": 36,
   "id": "f255cd29",
   "metadata": {
    "ExecuteTime": {
     "end_time": "2022-02-03T21:51:01.739079Z",
     "start_time": "2022-02-03T21:51:01.698245Z"
    }
   },
   "outputs": [
    {
     "data": {
      "text/plain": [
       "[[{'label': 'sadness', 'score': 0.000782029062975198},\n",
       "  {'label': 'joy', 'score': 0.9968018531799316},\n",
       "  {'label': 'love', 'score': 0.0003343094140291214},\n",
       "  {'label': 'anger', 'score': 0.0009681519004516304},\n",
       "  {'label': 'fear', 'score': 0.0004745248006656766},\n",
       "  {'label': 'surprise', 'score': 0.0006392347277142107}]]"
      ]
     },
     "execution_count": 36,
     "metadata": {},
     "output_type": "execute_result"
    }
   ],
   "source": [
    "emotion_pipeline('Its something great being human.')"
   ]
  },
  {
   "cell_type": "code",
   "execution_count": 37,
   "id": "68a78f0c",
   "metadata": {
    "ExecuteTime": {
     "end_time": "2022-02-03T21:51:04.352992Z",
     "start_time": "2022-02-03T21:51:04.299663Z"
    }
   },
   "outputs": [
    {
     "data": {
      "text/plain": [
       "[[{'label': 'sadness', 'score': 0.020250950008630753},\n",
       "  {'label': 'joy', 'score': 0.06607986986637115},\n",
       "  {'label': 'love', 'score': 0.0011429135920479894},\n",
       "  {'label': 'anger', 'score': 0.8615054488182068},\n",
       "  {'label': 'fear', 'score': 0.0479285903275013},\n",
       "  {'label': 'surprise', 'score': 0.0030922212172299623}]]"
      ]
     },
     "execution_count": 37,
     "metadata": {},
     "output_type": "execute_result"
    }
   ],
   "source": [
    "emotion_pipeline(\"I didn't expect that at all. It must be a joke...\")"
   ]
  },
  {
   "cell_type": "markdown",
   "id": "e6f93c1d",
   "metadata": {
    "ExecuteTime": {
     "end_time": "2022-01-20T08:07:34.510913Z",
     "start_time": "2022-01-20T08:07:34.502480Z"
    }
   },
   "source": [
    "## Zero shot classification\n",
    "Classify by any label"
   ]
  },
  {
   "cell_type": "markdown",
   "id": "83d5297c",
   "metadata": {
    "ExecuteTime": {
     "end_time": "2022-02-03T21:51:42.690883Z",
     "start_time": "2022-02-03T21:51:42.688423Z"
    }
   },
   "source": [
    "### Preparation"
   ]
  },
  {
   "cell_type": "code",
   "execution_count": 39,
   "id": "c80e128d",
   "metadata": {
    "ExecuteTime": {
     "end_time": "2022-02-03T21:52:03.775009Z",
     "start_time": "2022-02-03T21:51:45.017201Z"
    }
   },
   "outputs": [],
   "source": [
    "from transformers import pipeline\n",
    "\n",
    "zero_shot_model_name = \"facebook/bart-large-mnli\"\n",
    "zero_shot_classifier = pipeline(\"zero-shot-classification\",\n",
    "                                model=zero_shot_model_name)\n",
    "zero_shot_model_size_mb = 1520"
   ]
  },
  {
   "cell_type": "code",
   "execution_count": 40,
   "id": "c86e81e8",
   "metadata": {
    "ExecuteTime": {
     "end_time": "2022-02-03T21:52:03.806587Z",
     "start_time": "2022-02-03T21:52:03.779347Z"
    }
   },
   "outputs": [
    {
     "data": {
      "text/html": [
       "<div>\n",
       "<style scoped>\n",
       "    .dataframe tbody tr th:only-of-type {\n",
       "        vertical-align: middle;\n",
       "    }\n",
       "\n",
       "    .dataframe tbody tr th {\n",
       "        vertical-align: top;\n",
       "    }\n",
       "\n",
       "    .dataframe thead th {\n",
       "        text-align: right;\n",
       "    }\n",
       "</style>\n",
       "<table border=\"1\" class=\"dataframe\">\n",
       "  <thead>\n",
       "    <tr style=\"text-align: right;\">\n",
       "      <th></th>\n",
       "      <th>facebook/bart-large-mnli</th>\n",
       "    </tr>\n",
       "  </thead>\n",
       "  <tbody>\n",
       "    <tr>\n",
       "      <th>parameters</th>\n",
       "      <td>407,344,131</td>\n",
       "    </tr>\n",
       "    <tr>\n",
       "      <th>size</th>\n",
       "      <td>1520 MB</td>\n",
       "    </tr>\n",
       "  </tbody>\n",
       "</table>\n",
       "</div>"
      ],
      "text/plain": [
       "           facebook/bart-large-mnli\n",
       "parameters              407,344,131\n",
       "size                        1520 MB"
      ]
     },
     "execution_count": 40,
     "metadata": {},
     "output_type": "execute_result"
    }
   ],
   "source": [
    "show_model_summary(zero_shot_model_name, zero_shot_classifier.model, zero_shot_model_size_mb)"
   ]
  },
  {
   "cell_type": "markdown",
   "id": "cc8e29e9",
   "metadata": {
    "ExecuteTime": {
     "end_time": "2022-02-03T21:52:03.813422Z",
     "start_time": "2022-02-03T21:52:03.809977Z"
    }
   },
   "source": [
    "### Demo"
   ]
  },
  {
   "cell_type": "code",
   "execution_count": 43,
   "id": "67a4c7a9",
   "metadata": {
    "ExecuteTime": {
     "end_time": "2022-02-03T21:52:52.500462Z",
     "start_time": "2022-02-03T21:52:29.161198Z"
    }
   },
   "outputs": [],
   "source": [
    "australia_description = \"\"\"Australia, officially the Commonwealth of Australia, \n",
    "is a sovereign country comprising the mainland of the Australian continent, \n",
    "the island of Tasmania, and numerous smaller islands.\"\"\"\n",
    "\n",
    "gradient_description = \"\"\"In vector calculus, the gradient of a scalar-valued differentiable function f of several\n",
    "variables is the vector field (or vector-valued function) whose value at a point p is the \n",
    "vector[a] whose components are the partial derivatives\"\"\"\n",
    "\n",
    "plankton_description = \"\"\"Plankton are the diverse collection of organisms found in water \n",
    "(or air) that are unable to propel themselves against a current (or wind). The individual \n",
    "organisms constituting plankton are called plankters.\"\"\"\n",
    "\n",
    "brave_new_world_description = \"\"\"Brave New World is a dystopian social science fiction novel by \n",
    "Aldous Huxley, written in 1931 and published in 1932. Largely set in a futuristic World State, whose citizens are\n",
    "environmentally engineered into an intelligence-based social hierarchy.\"\"\"\n",
    "\n",
    "classes = ['geography', 'math',  'biology', 'literature']\n",
    "\n",
    "texts_to_classify = [australia_description, gradient_description,\n",
    "                     plankton_description, brave_new_world_description]\n",
    "\n",
    "zero_shot_predictions = zero_shot_classifier(texts_to_classify,\n",
    "                                             classes)"
   ]
  },
  {
   "cell_type": "code",
   "execution_count": 44,
   "id": "72c4b8e2",
   "metadata": {
    "ExecuteTime": {
     "end_time": "2022-02-03T21:53:11.620621Z",
     "start_time": "2022-02-03T21:53:11.604638Z"
    }
   },
   "outputs": [
    {
     "data": {
      "text/html": [
       "<div>\n",
       "<style scoped>\n",
       "    .dataframe tbody tr th:only-of-type {\n",
       "        vertical-align: middle;\n",
       "    }\n",
       "\n",
       "    .dataframe tbody tr th {\n",
       "        vertical-align: top;\n",
       "    }\n",
       "\n",
       "    .dataframe thead th {\n",
       "        text-align: right;\n",
       "    }\n",
       "</style>\n",
       "<table border=\"1\" class=\"dataframe\">\n",
       "  <thead>\n",
       "    <tr style=\"text-align: right;\">\n",
       "      <th></th>\n",
       "      <th>geography</th>\n",
       "      <th>math</th>\n",
       "      <th>biology</th>\n",
       "      <th>literature</th>\n",
       "    </tr>\n",
       "  </thead>\n",
       "  <tbody>\n",
       "    <tr>\n",
       "      <th>Australia, officially the Commonwealth of Australia, \\nis a sovereign country comprising the mainland of the Australian continent, \\nthe island of Tasmania, and numerous smaller islands.</th>\n",
       "      <td>0.877</td>\n",
       "      <td>0.035</td>\n",
       "      <td>0.045</td>\n",
       "      <td>0.043</td>\n",
       "    </tr>\n",
       "    <tr>\n",
       "      <th>In vector calculus, the gradient of a scalar-valued differentiable function f of several\\nvariables is the vector field (or vector-valued function) whose value at a point p is the \\nvector[a] whose components are the partial derivatives</th>\n",
       "      <td>0.011</td>\n",
       "      <td>0.967</td>\n",
       "      <td>0.007</td>\n",
       "      <td>0.015</td>\n",
       "    </tr>\n",
       "    <tr>\n",
       "      <th>Plankton are the diverse collection of organisms found in water \\n(or air) that are unable to propel themselves against a current (or wind). The individual \\norganisms constituting plankton are called plankters.</th>\n",
       "      <td>0.042</td>\n",
       "      <td>0.020</td>\n",
       "      <td>0.899</td>\n",
       "      <td>0.039</td>\n",
       "    </tr>\n",
       "    <tr>\n",
       "      <th>Brave New World is a dystopian social science fiction novel by \\nAldous Huxley, written in 1931 and published in 1932. Largely set in a futuristic World State, whose citizens are\\nenvironmentally engineered into an intelligence-based social hierarchy.</th>\n",
       "      <td>0.010</td>\n",
       "      <td>0.003</td>\n",
       "      <td>0.004</td>\n",
       "      <td>0.983</td>\n",
       "    </tr>\n",
       "  </tbody>\n",
       "</table>\n",
       "</div>"
      ],
      "text/plain": [
       "                                                    geography   math  biology  \\\n",
       "Australia, officially the Commonwealth of Austr...      0.877  0.035    0.045   \n",
       "In vector calculus, the gradient of a scalar-va...      0.011  0.967    0.007   \n",
       "Plankton are the diverse collection of organism...      0.042  0.020    0.899   \n",
       "Brave New World is a dystopian social science f...      0.010  0.003    0.004   \n",
       "\n",
       "                                                    literature  \n",
       "Australia, officially the Commonwealth of Austr...       0.043  \n",
       "In vector calculus, the gradient of a scalar-va...       0.015  \n",
       "Plankton are the diverse collection of organism...       0.039  \n",
       "Brave New World is a dystopian social science f...       0.983  "
      ]
     },
     "execution_count": 44,
     "metadata": {},
     "output_type": "execute_result"
    }
   ],
   "source": [
    "import pandas as pd\n",
    "\n",
    "index = []\n",
    "scores = []\n",
    "for prediction in zero_shot_predictions:\n",
    "    \n",
    "    index.append(prediction['sequence'])\n",
    "    scores_rounded = [round(s,3) for s in prediction['scores']]\n",
    "    scores_dict = dict(zip(prediction['labels'], scores_rounded))\n",
    "    scores.append(scores_dict)\n",
    "\n",
    "pd.DataFrame(scores, index=index, columns=classes)"
   ]
  },
  {
   "cell_type": "markdown",
   "id": "f61160fb",
   "metadata": {},
   "source": [
    "## Zero shot vs sentiment specific model"
   ]
  },
  {
   "cell_type": "code",
   "execution_count": 45,
   "id": "336b35de",
   "metadata": {
    "ExecuteTime": {
     "end_time": "2022-02-03T21:53:26.064620Z",
     "start_time": "2022-02-03T21:53:26.061148Z"
    }
   },
   "outputs": [],
   "source": [
    "classify_sentiment_texts = [\n",
    "    'I love being served hot food',\n",
    "    'I love being served cold food'\n",
    "]"
   ]
  },
  {
   "cell_type": "code",
   "execution_count": 46,
   "id": "8babd9f8",
   "metadata": {
    "ExecuteTime": {
     "end_time": "2022-02-03T21:53:38.244041Z",
     "start_time": "2022-02-03T21:53:26.803030Z"
    }
   },
   "outputs": [
    {
     "data": {
      "text/plain": [
       "[[{'label': 'NEGATIVE', 'score': 0.0010674481745809317},\n",
       "  {'label': 'POSITIVE', 'score': 0.9989325404167175}],\n",
       " [{'label': 'NEGATIVE', 'score': 0.7160998582839966},\n",
       "  {'label': 'POSITIVE', 'score': 0.28390011191368103}]]"
      ]
     },
     "execution_count": 46,
     "metadata": {},
     "output_type": "execute_result"
    }
   ],
   "source": [
    "sentiment_model_predictions = sentiment_pipeline(classify_sentiment_texts, \n",
    "                                                 return_all_scores=True)\n",
    "sentiment_model_predictions"
   ]
  },
  {
   "cell_type": "code",
   "execution_count": 47,
   "id": "18ff98cc",
   "metadata": {
    "ExecuteTime": {
     "end_time": "2022-02-03T21:53:38.250789Z",
     "start_time": "2022-02-03T21:53:38.246513Z"
    }
   },
   "outputs": [
    {
     "data": {
      "text/plain": [
       "['NEGATIVE', 'POSITIVE']"
      ]
     },
     "execution_count": 47,
     "metadata": {},
     "output_type": "execute_result"
    }
   ],
   "source": [
    "labels = list(sentiment_pipeline.model.config.label2id.keys())\n",
    "labels"
   ]
  },
  {
   "cell_type": "code",
   "execution_count": 48,
   "id": "3c2ca02f",
   "metadata": {
    "ExecuteTime": {
     "end_time": "2022-02-03T21:53:51.709132Z",
     "start_time": "2022-02-03T21:53:39.042742Z"
    }
   },
   "outputs": [
    {
     "data": {
      "text/plain": [
       "[{'sequence': 'I love being served hot food',\n",
       "  'labels': ['POSITIVE', 'NEGATIVE'],\n",
       "  'scores': [0.8949331045150757, 0.10506691783666611]},\n",
       " {'sequence': 'I love being served cold food',\n",
       "  'labels': ['POSITIVE', 'NEGATIVE'],\n",
       "  'scores': [0.7917080521583557, 0.20829196274280548]}]"
      ]
     },
     "execution_count": 48,
     "metadata": {},
     "output_type": "execute_result"
    }
   ],
   "source": [
    "zeroshot_model_predictions = zero_shot_classifier(classify_sentiment_texts, labels)\n",
    "zeroshot_model_predictions"
   ]
  },
  {
   "cell_type": "markdown",
   "id": "57c7c471",
   "metadata": {},
   "source": [
    "# Conversational"
   ]
  },
  {
   "cell_type": "markdown",
   "id": "ce19f474",
   "metadata": {},
   "source": [
    "https://huggingface.co/microsoft/DialoGPT-small"
   ]
  },
  {
   "cell_type": "markdown",
   "id": "fe712238",
   "metadata": {},
   "source": [
    "## Preparation"
   ]
  },
  {
   "cell_type": "code",
   "execution_count": 51,
   "id": "7a606341",
   "metadata": {
    "ExecuteTime": {
     "end_time": "2022-02-03T21:56:36.669449Z",
     "start_time": "2022-02-03T21:56:11.650405Z"
    }
   },
   "outputs": [],
   "source": [
    "conversational_model_model_name = 'microsoft/DialoGPT-large'\n",
    "conversational_pipeline = pipeline('conversational', model=conversational_model_model_name)\n",
    "conversational_model_size_mb = 1630"
   ]
  },
  {
   "cell_type": "code",
   "execution_count": 52,
   "id": "09740266",
   "metadata": {
    "ExecuteTime": {
     "end_time": "2022-02-03T21:56:54.836470Z",
     "start_time": "2022-02-03T21:56:54.822232Z"
    }
   },
   "outputs": [
    {
     "data": {
      "text/html": [
       "<div>\n",
       "<style scoped>\n",
       "    .dataframe tbody tr th:only-of-type {\n",
       "        vertical-align: middle;\n",
       "    }\n",
       "\n",
       "    .dataframe tbody tr th {\n",
       "        vertical-align: top;\n",
       "    }\n",
       "\n",
       "    .dataframe thead th {\n",
       "        text-align: right;\n",
       "    }\n",
       "</style>\n",
       "<table border=\"1\" class=\"dataframe\">\n",
       "  <thead>\n",
       "    <tr style=\"text-align: right;\">\n",
       "      <th></th>\n",
       "      <th>microsoft/DialoGPT-large</th>\n",
       "    </tr>\n",
       "  </thead>\n",
       "  <tbody>\n",
       "    <tr>\n",
       "      <th>parameters</th>\n",
       "      <td>774,030,080</td>\n",
       "    </tr>\n",
       "    <tr>\n",
       "      <th>size</th>\n",
       "      <td>1630 MB</td>\n",
       "    </tr>\n",
       "  </tbody>\n",
       "</table>\n",
       "</div>"
      ],
      "text/plain": [
       "           microsoft/DialoGPT-large\n",
       "parameters              774,030,080\n",
       "size                        1630 MB"
      ]
     },
     "execution_count": 52,
     "metadata": {},
     "output_type": "execute_result"
    }
   ],
   "source": [
    "show_model_summary(conversational_model_model_name,\n",
    "                   conversational_pipeline.model, \n",
    "                   conversational_model_size_mb)"
   ]
  },
  {
   "cell_type": "code",
   "execution_count": 50,
   "id": "7df40147",
   "metadata": {
    "ExecuteTime": {
     "end_time": "2022-02-03T21:54:41.409536Z",
     "start_time": "2022-02-03T21:54:41.403346Z"
    }
   },
   "outputs": [],
   "source": [
    "from transformers import Conversation"
   ]
  },
  {
   "cell_type": "markdown",
   "id": "e49a6659",
   "metadata": {},
   "source": [
    "## Demo"
   ]
  },
  {
   "cell_type": "code",
   "execution_count": 53,
   "id": "b3569788",
   "metadata": {
    "ExecuteTime": {
     "end_time": "2022-02-03T21:57:06.082676Z",
     "start_time": "2022-02-03T21:57:04.906277Z"
    }
   },
   "outputs": [
    {
     "name": "stderr",
     "output_type": "stream",
     "text": [
      "Setting `pad_token_id` to `eos_token_id`:50256 for open-end generation.\n"
     ]
    },
    {
     "data": {
      "text/plain": [
       "Conversation id: 3ab1f1e5-be6b-4ddd-9b0b-a0821625c6ad \n",
       "user >> Can I add fries? \n",
       "bot >> Of course! "
      ]
     },
     "execution_count": 53,
     "metadata": {},
     "output_type": "execute_result"
    }
   ],
   "source": [
    "conversation_1 = Conversation(\"Can I add fries?\")\n",
    "conversational_pipeline(conversation_1)"
   ]
  },
  {
   "cell_type": "code",
   "execution_count": 54,
   "id": "e1d7667b",
   "metadata": {
    "ExecuteTime": {
     "end_time": "2022-02-03T21:57:08.268302Z",
     "start_time": "2022-02-03T21:57:06.085309Z"
    }
   },
   "outputs": [
    {
     "name": "stderr",
     "output_type": "stream",
     "text": [
      "Setting `pad_token_id` to `eos_token_id`:50256 for open-end generation.\n"
     ]
    },
    {
     "data": {
      "text/plain": [
       "Conversation id: 3ab1f1e5-be6b-4ddd-9b0b-a0821625c6ad \n",
       "user >> Can I add fries? \n",
       "bot >> Of course! \n",
       "user >> How much is it? \n",
       "bot >> I think it's like 3.50 "
      ]
     },
     "execution_count": 54,
     "metadata": {},
     "output_type": "execute_result"
    }
   ],
   "source": [
    "conversation_1.add_user_input(\"How much is it?\")\n",
    "conversational_pipeline(conversation_1)"
   ]
  },
  {
   "cell_type": "code",
   "execution_count": 55,
   "id": "2d39936b",
   "metadata": {
    "ExecuteTime": {
     "end_time": "2022-02-03T21:57:10.454837Z",
     "start_time": "2022-02-03T21:57:08.270947Z"
    }
   },
   "outputs": [
    {
     "name": "stderr",
     "output_type": "stream",
     "text": [
      "Setting `pad_token_id` to `eos_token_id`:50256 for open-end generation.\n"
     ]
    },
    {
     "data": {
      "text/plain": [
       "Conversation id: 3ab1f1e5-be6b-4ddd-9b0b-a0821625c6ad \n",
       "user >> Can I add fries? \n",
       "bot >> Of course! \n",
       "user >> How much is it? \n",
       "bot >> I think it's like 3.50 \n",
       "user >> Ok, so I will order two \n",
       "bot >> I will order two as well. "
      ]
     },
     "execution_count": 55,
     "metadata": {},
     "output_type": "execute_result"
    }
   ],
   "source": [
    "conversation_1.add_user_input(\"Ok, so I will order two\")\n",
    "conversational_pipeline(conversation_1)"
   ]
  }
 ],
 "metadata": {
  "hide_input": false,
  "kernelspec": {
   "display_name": "Python 3 (ipykernel)",
   "language": "python",
   "name": "python3"
  },
  "language_info": {
   "codemirror_mode": {
    "name": "ipython",
    "version": 3
   },
   "file_extension": ".py",
   "mimetype": "text/x-python",
   "name": "python",
   "nbconvert_exporter": "python",
   "pygments_lexer": "ipython3",
   "version": "3.8.6"
  },
  "toc": {
   "base_numbering": 1,
   "nav_menu": {},
   "number_sections": true,
   "sideBar": true,
   "skip_h1_title": false,
   "title_cell": "Table of Contents",
   "title_sidebar": "Contents",
   "toc_cell": false,
   "toc_position": {
    "height": "calc(100% - 180px)",
    "left": "10px",
    "top": "150px",
    "width": "305.438px"
   },
   "toc_section_display": true,
   "toc_window_display": true
  }
 },
 "nbformat": 4,
 "nbformat_minor": 5
}
